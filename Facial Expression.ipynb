{
  "nbformat": 4,
  "nbformat_minor": 0,
  "metadata": {
    "kernelspec": {
      "name": "python3",
      "display_name": "Python 3"
    },
    "language_info": {
      "codemirror_mode": {
        "name": "ipython",
        "version": 3
      },
      "file_extension": ".py",
      "mimetype": "text/x-python",
      "name": "python",
      "nbconvert_exporter": "python",
      "pygments_lexer": "ipython3",
      "version": "3.6.7"
    },
    "colab": {
      "name": "7",
      "version": "0.3.2",
      "provenance": [],
      "toc_visible": true
    },
    "accelerator": "GPU"
  },
  "cells": [
    {
      "cell_type": "code",
      "metadata": {
        "id": "oJAPaNOKiqcb",
        "colab_type": "code",
        "colab": {}
      },
      "source": [
        "import tensorflow as tf\n",
        "import cv2\n",
        "import os\n",
        "import numpy as np\n",
        "from sklearn.model_selection import train_test_split\n",
        "from sklearn.metrics import accuracy_score,recall_score,f1_score,precision_score,confusion_matrix\n",
        "import pandas as pd\n",
        "import matplotlib.pyplot as plt"
      ],
      "execution_count": 0,
      "outputs": []
    },
    {
      "cell_type": "code",
      "metadata": {
        "id": "Ay63gZHijvyB",
        "colab_type": "code",
        "outputId": "7edc83a6-3ea0-4c5d-e33f-aedede405d75",
        "colab": {
          "base_uri": "https://localhost:8080/",
          "height": 306
        }
      },
      "source": [
        "!7z x fer2013.csv.zip"
      ],
      "execution_count": 2,
      "outputs": [
        {
          "output_type": "stream",
          "text": [
            "\n",
            "7-Zip [64] 16.02 : Copyright (c) 1999-2016 Igor Pavlov : 2016-05-21\n",
            "p7zip Version 16.02 (locale=en_US.UTF-8,Utf16=on,HugeFiles=on,64 bits,2 CPUs Intel(R) Xeon(R) CPU @ 2.30GHz (306F0),ASM,AES-NI)\n",
            "\n",
            "Scanning the drive for archives:\n",
            "  0M Scan\b\b\b\b\b\b\b\b\b         \b\b\b\b\b\b\b\b\b1 file, 101279952 bytes (97 MiB)\n",
            "\n",
            "Extracting archive: fer2013.csv.zip\n",
            "--\n",
            "Path = fer2013.csv.zip\n",
            "Type = zip\n",
            "Physical Size = 101279952\n",
            "\n",
            "  0%\b\b\b\b    \b\b\b\b  7% - fer2013.csv\b\b\b\b\b\b\b\b\b\b\b\b\b\b\b\b\b\b                  \b\b\b\b\b\b\b\b\b\b\b\b\b\b\b\b\b\b 14% - fer2013.csv\b\b\b\b\b\b\b\b\b\b\b\b\b\b\b\b\b\b                  \b\b\b\b\b\b\b\b\b\b\b\b\b\b\b\b\b\b 22% - fer2013.csv\b\b\b\b\b\b\b\b\b\b\b\b\b\b\b\b\b\b                  \b\b\b\b\b\b\b\b\b\b\b\b\b\b\b\b\b\b 29% - fer2013.csv\b\b\b\b\b\b\b\b\b\b\b\b\b\b\b\b\b\b                  \b\b\b\b\b\b\b\b\b\b\b\b\b\b\b\b\b\b 37% - fer2013.csv\b\b\b\b\b\b\b\b\b\b\b\b\b\b\b\b\b\b                  \b\b\b\b\b\b\b\b\b\b\b\b\b\b\b\b\b\b 43% - fer2013.csv\b\b\b\b\b\b\b\b\b\b\b\b\b\b\b\b\b\b                  \b\b\b\b\b\b\b\b\b\b\b\b\b\b\b\b\b\b 50% - fer2013.csv\b\b\b\b\b\b\b\b\b\b\b\b\b\b\b\b\b\b                  \b\b\b\b\b\b\b\b\b\b\b\b\b\b\b\b\b\b 57% - fer2013.csv\b\b\b\b\b\b\b\b\b\b\b\b\b\b\b\b\b\b                  \b\b\b\b\b\b\b\b\b\b\b\b\b\b\b\b\b\b 64% - fer2013.csv\b\b\b\b\b\b\b\b\b\b\b\b\b\b\b\b\b\b                  \b\b\b\b\b\b\b\b\b\b\b\b\b\b\b\b\b\b 71% - fer2013.csv\b\b\b\b\b\b\b\b\b\b\b\b\b\b\b\b\b\b                  \b\b\b\b\b\b\b\b\b\b\b\b\b\b\b\b\b\b 78% - fer2013.csv\b\b\b\b\b\b\b\b\b\b\b\b\b\b\b\b\b\b                  \b\b\b\b\b\b\b\b\b\b\b\b\b\b\b\b\b\b 85% - fer2013.csv\b\b\b\b\b\b\b\b\b\b\b\b\b\b\b\b\b\b                  \b\b\b\b\b\b\b\b\b\b\b\b\b\b\b\b\b\b 92% - fer2013.csv\b\b\b\b\b\b\b\b\b\b\b\b\b\b\b\b\b\b                  \b\b\b\b\b\b\b\b\b\b\b\b\b\b\b\b\b\b 98% - fer2013.csv\b\b\b\b\b\b\b\b\b\b\b\b\b\b\b\b\b\b                  \b\b\b\b\b\b\b\b\b\b\b\b\b\b\b\b\b\bEverything is Ok\n",
            "\n",
            "Size:       301072766\n",
            "Compressed: 101279952\n"
          ],
          "name": "stdout"
        }
      ]
    },
    {
      "cell_type": "code",
      "metadata": {
        "id": "ADp7PocMiqcf",
        "colab_type": "code",
        "colab": {}
      },
      "source": [
        "training_data = pd.read_csv('fer2013.csv',',')\n",
        "emotion = ['Angry','Disgust','Fear','Happy','Sad','Surprise','Neutral']"
      ],
      "execution_count": 0,
      "outputs": []
    },
    {
      "cell_type": "code",
      "metadata": {
        "id": "Qa4uSzSfNhg8",
        "colab_type": "code",
        "outputId": "1a5d1176-a926-4778-b00f-a6de579fef49",
        "colab": {
          "base_uri": "https://localhost:8080/",
          "height": 204
        }
      },
      "source": [
        "training_data.head()"
      ],
      "execution_count": 4,
      "outputs": [
        {
          "output_type": "execute_result",
          "data": {
            "text/html": [
              "<div>\n",
              "<style scoped>\n",
              "    .dataframe tbody tr th:only-of-type {\n",
              "        vertical-align: middle;\n",
              "    }\n",
              "\n",
              "    .dataframe tbody tr th {\n",
              "        vertical-align: top;\n",
              "    }\n",
              "\n",
              "    .dataframe thead th {\n",
              "        text-align: right;\n",
              "    }\n",
              "</style>\n",
              "<table border=\"1\" class=\"dataframe\">\n",
              "  <thead>\n",
              "    <tr style=\"text-align: right;\">\n",
              "      <th></th>\n",
              "      <th>emotion</th>\n",
              "      <th>pixels</th>\n",
              "      <th>Usage</th>\n",
              "    </tr>\n",
              "  </thead>\n",
              "  <tbody>\n",
              "    <tr>\n",
              "      <th>0</th>\n",
              "      <td>0</td>\n",
              "      <td>70 80 82 72 58 58 60 63 54 58 60 48 89 115 121...</td>\n",
              "      <td>Training</td>\n",
              "    </tr>\n",
              "    <tr>\n",
              "      <th>1</th>\n",
              "      <td>0</td>\n",
              "      <td>151 150 147 155 148 133 111 140 170 174 182 15...</td>\n",
              "      <td>Training</td>\n",
              "    </tr>\n",
              "    <tr>\n",
              "      <th>2</th>\n",
              "      <td>2</td>\n",
              "      <td>231 212 156 164 174 138 161 173 182 200 106 38...</td>\n",
              "      <td>Training</td>\n",
              "    </tr>\n",
              "    <tr>\n",
              "      <th>3</th>\n",
              "      <td>4</td>\n",
              "      <td>24 32 36 30 32 23 19 20 30 41 21 22 32 34 21 1...</td>\n",
              "      <td>Training</td>\n",
              "    </tr>\n",
              "    <tr>\n",
              "      <th>4</th>\n",
              "      <td>6</td>\n",
              "      <td>4 0 0 0 0 0 0 0 0 0 0 0 3 15 23 28 48 50 58 84...</td>\n",
              "      <td>Training</td>\n",
              "    </tr>\n",
              "  </tbody>\n",
              "</table>\n",
              "</div>"
            ],
            "text/plain": [
              "   emotion                                             pixels     Usage\n",
              "0        0  70 80 82 72 58 58 60 63 54 58 60 48 89 115 121...  Training\n",
              "1        0  151 150 147 155 148 133 111 140 170 174 182 15...  Training\n",
              "2        2  231 212 156 164 174 138 161 173 182 200 106 38...  Training\n",
              "3        4  24 32 36 30 32 23 19 20 30 41 21 22 32 34 21 1...  Training\n",
              "4        6  4 0 0 0 0 0 0 0 0 0 0 0 3 15 23 28 48 50 58 84...  Training"
            ]
          },
          "metadata": {
            "tags": []
          },
          "execution_count": 4
        }
      ]
    },
    {
      "cell_type": "code",
      "metadata": {
        "id": "r1mCR_QFiqcn",
        "colab_type": "code",
        "colab": {}
      },
      "source": [
        "training_data = pd.get_dummies(training_data,columns = ['emotion'] )"
      ],
      "execution_count": 0,
      "outputs": []
    },
    {
      "cell_type": "code",
      "metadata": {
        "id": "xU2DvCgbvsme",
        "colab_type": "code",
        "outputId": "f87f43e5-7cfe-4d9c-b4b6-fb370d347d29",
        "colab": {
          "base_uri": "https://localhost:8080/",
          "height": 204
        }
      },
      "source": [
        "training_data.head()"
      ],
      "execution_count": 6,
      "outputs": [
        {
          "output_type": "execute_result",
          "data": {
            "text/html": [
              "<div>\n",
              "<style scoped>\n",
              "    .dataframe tbody tr th:only-of-type {\n",
              "        vertical-align: middle;\n",
              "    }\n",
              "\n",
              "    .dataframe tbody tr th {\n",
              "        vertical-align: top;\n",
              "    }\n",
              "\n",
              "    .dataframe thead th {\n",
              "        text-align: right;\n",
              "    }\n",
              "</style>\n",
              "<table border=\"1\" class=\"dataframe\">\n",
              "  <thead>\n",
              "    <tr style=\"text-align: right;\">\n",
              "      <th></th>\n",
              "      <th>pixels</th>\n",
              "      <th>Usage</th>\n",
              "      <th>emotion_0</th>\n",
              "      <th>emotion_1</th>\n",
              "      <th>emotion_2</th>\n",
              "      <th>emotion_3</th>\n",
              "      <th>emotion_4</th>\n",
              "      <th>emotion_5</th>\n",
              "      <th>emotion_6</th>\n",
              "    </tr>\n",
              "  </thead>\n",
              "  <tbody>\n",
              "    <tr>\n",
              "      <th>0</th>\n",
              "      <td>70 80 82 72 58 58 60 63 54 58 60 48 89 115 121...</td>\n",
              "      <td>Training</td>\n",
              "      <td>1</td>\n",
              "      <td>0</td>\n",
              "      <td>0</td>\n",
              "      <td>0</td>\n",
              "      <td>0</td>\n",
              "      <td>0</td>\n",
              "      <td>0</td>\n",
              "    </tr>\n",
              "    <tr>\n",
              "      <th>1</th>\n",
              "      <td>151 150 147 155 148 133 111 140 170 174 182 15...</td>\n",
              "      <td>Training</td>\n",
              "      <td>1</td>\n",
              "      <td>0</td>\n",
              "      <td>0</td>\n",
              "      <td>0</td>\n",
              "      <td>0</td>\n",
              "      <td>0</td>\n",
              "      <td>0</td>\n",
              "    </tr>\n",
              "    <tr>\n",
              "      <th>2</th>\n",
              "      <td>231 212 156 164 174 138 161 173 182 200 106 38...</td>\n",
              "      <td>Training</td>\n",
              "      <td>0</td>\n",
              "      <td>0</td>\n",
              "      <td>1</td>\n",
              "      <td>0</td>\n",
              "      <td>0</td>\n",
              "      <td>0</td>\n",
              "      <td>0</td>\n",
              "    </tr>\n",
              "    <tr>\n",
              "      <th>3</th>\n",
              "      <td>24 32 36 30 32 23 19 20 30 41 21 22 32 34 21 1...</td>\n",
              "      <td>Training</td>\n",
              "      <td>0</td>\n",
              "      <td>0</td>\n",
              "      <td>0</td>\n",
              "      <td>0</td>\n",
              "      <td>1</td>\n",
              "      <td>0</td>\n",
              "      <td>0</td>\n",
              "    </tr>\n",
              "    <tr>\n",
              "      <th>4</th>\n",
              "      <td>4 0 0 0 0 0 0 0 0 0 0 0 3 15 23 28 48 50 58 84...</td>\n",
              "      <td>Training</td>\n",
              "      <td>0</td>\n",
              "      <td>0</td>\n",
              "      <td>0</td>\n",
              "      <td>0</td>\n",
              "      <td>0</td>\n",
              "      <td>0</td>\n",
              "      <td>1</td>\n",
              "    </tr>\n",
              "  </tbody>\n",
              "</table>\n",
              "</div>"
            ],
            "text/plain": [
              "                                              pixels  ... emotion_6\n",
              "0  70 80 82 72 58 58 60 63 54 58 60 48 89 115 121...  ...         0\n",
              "1  151 150 147 155 148 133 111 140 170 174 182 15...  ...         0\n",
              "2  231 212 156 164 174 138 161 173 182 200 106 38...  ...         0\n",
              "3  24 32 36 30 32 23 19 20 30 41 21 22 32 34 21 1...  ...         0\n",
              "4  4 0 0 0 0 0 0 0 0 0 0 0 3 15 23 28 48 50 58 84...  ...         1\n",
              "\n",
              "[5 rows x 9 columns]"
            ]
          },
          "metadata": {
            "tags": []
          },
          "execution_count": 6
        }
      ]
    },
    {
      "cell_type": "code",
      "metadata": {
        "id": "icFs8MDEiqcv",
        "colab_type": "code",
        "colab": {}
      },
      "source": [
        "training = training_data[training_data['Usage'] == 'Training']\n",
        "test = training_data[training_data['Usage'] == 'PublicTest']\n",
        "t = training['pixels']\n",
        "X_train = []\n",
        "for x in t:\n",
        "  temp = x.split(' ')\n",
        "  temp = [int(_) for _ in temp]\n",
        "  temp = np.array(temp)\n",
        "  temp = temp.reshape(48,48)\n",
        "  temp  = temp/255 \n",
        "  X_train.append(temp)\n",
        "X_test = []\n",
        "t = test['pixels']\n",
        "for x in t:\n",
        "  temp = x.split(' ')\n",
        "  temp = [int(_) for _ in temp]\n",
        "  temp = np.array(temp)\n",
        "  temp = temp.reshape(48,48)\n",
        "  temp  = temp/255 \n",
        "  X_test.append(temp)\n"
      ],
      "execution_count": 0,
      "outputs": []
    },
    {
      "cell_type": "code",
      "metadata": {
        "id": "8YzyxN6PTEoB",
        "colab_type": "code",
        "outputId": "c769e159-8636-4131-a370-afe3fbf50b79",
        "colab": {
          "base_uri": "https://localhost:8080/",
          "height": 1000
        }
      },
      "source": [
        "y_test = training_data[training_data['Usage'] == 'PublicTest'].drop(['pixels','Usage'],axis=1)\n",
        "y_train = training_data[training_data['Usage'] == 'Training'].drop(['pixels','Usage'],axis=1)\n",
        "print(y_test)"
      ],
      "execution_count": 8,
      "outputs": [
        {
          "output_type": "stream",
          "text": [
            "       emotion_0  emotion_1  emotion_2  ...  emotion_4  emotion_5  emotion_6\n",
            "28709          1          0          0  ...          0          0          0\n",
            "28710          0          1          0  ...          0          0          0\n",
            "28711          0          0          0  ...          1          0          0\n",
            "28712          0          0          0  ...          0          0          1\n",
            "28713          0          0          0  ...          0          0          0\n",
            "28714          0          0          0  ...          0          0          0\n",
            "28715          0          0          1  ...          0          0          0\n",
            "28716          1          0          0  ...          0          0          0\n",
            "28717          0          0          1  ...          0          0          0\n",
            "28718          1          0          0  ...          0          0          0\n",
            "28719          0          0          0  ...          0          0          0\n",
            "28720          1          0          0  ...          0          0          0\n",
            "28721          0          0          0  ...          1          0          0\n",
            "28722          0          0          1  ...          0          0          0\n",
            "28723          0          0          0  ...          0          0          1\n",
            "28724          0          0          1  ...          0          0          0\n",
            "28725          0          0          0  ...          0          1          0\n",
            "28726          1          0          0  ...          0          0          0\n",
            "28727          0          0          0  ...          0          1          0\n",
            "28728          0          0          0  ...          0          0          0\n",
            "28729          0          0          1  ...          0          0          0\n",
            "28730          0          0          0  ...          0          1          0\n",
            "28731          1          0          0  ...          0          0          0\n",
            "28732          0          0          0  ...          1          0          0\n",
            "28733          1          0          0  ...          0          0          0\n",
            "28734          0          0          1  ...          0          0          0\n",
            "28735          0          0          0  ...          1          0          0\n",
            "28736          0          0          0  ...          1          0          0\n",
            "28737          1          0          0  ...          0          0          0\n",
            "28738          0          0          1  ...          0          0          0\n",
            "...          ...        ...        ...  ...        ...        ...        ...\n",
            "32268          0          0          0  ...          1          0          0\n",
            "32269          0          0          0  ...          0          0          1\n",
            "32270          0          0          0  ...          0          0          1\n",
            "32271          0          0          1  ...          0          0          0\n",
            "32272          0          0          0  ...          0          0          1\n",
            "32273          0          0          0  ...          0          0          0\n",
            "32274          0          0          0  ...          0          0          0\n",
            "32275          0          0          0  ...          1          0          0\n",
            "32276          0          0          0  ...          1          0          0\n",
            "32277          0          0          0  ...          1          0          0\n",
            "32278          1          0          0  ...          0          0          0\n",
            "32279          0          0          1  ...          0          0          0\n",
            "32280          0          0          0  ...          1          0          0\n",
            "32281          1          0          0  ...          0          0          0\n",
            "32282          0          0          0  ...          0          0          0\n",
            "32283          0          0          0  ...          0          1          0\n",
            "32284          0          0          0  ...          0          1          0\n",
            "32285          0          0          0  ...          0          0          1\n",
            "32286          0          0          0  ...          1          0          0\n",
            "32287          0          0          0  ...          0          0          0\n",
            "32288          0          0          0  ...          1          0          0\n",
            "32289          0          1          0  ...          0          0          0\n",
            "32290          0          0          1  ...          0          0          0\n",
            "32291          0          0          0  ...          0          0          0\n",
            "32292          0          0          0  ...          0          0          0\n",
            "32293          0          0          0  ...          1          0          0\n",
            "32294          0          0          0  ...          0          0          0\n",
            "32295          0          0          0  ...          1          0          0\n",
            "32296          0          0          0  ...          1          0          0\n",
            "32297          0          0          0  ...          1          0          0\n",
            "\n",
            "[3589 rows x 7 columns]\n"
          ],
          "name": "stdout"
        }
      ]
    },
    {
      "cell_type": "markdown",
      "metadata": {
        "id": "mx4ZVjCdQsFa",
        "colab_type": "text"
      },
      "source": [
        ""
      ]
    },
    {
      "cell_type": "code",
      "metadata": {
        "id": "_X6LX9gIQsak",
        "colab_type": "code",
        "colab": {}
      },
      "source": [
        "X_train = np.array(list(np.array(X_train))).reshape(-1,48,48,1)\n",
        "X_test = np.array(list(np.array(X_test))).reshape(-1,48,48,1)"
      ],
      "execution_count": 0,
      "outputs": []
    },
    {
      "cell_type": "code",
      "metadata": {
        "id": "Cq977iU6iqc1",
        "colab_type": "code",
        "outputId": "c9552d97-1caa-4f2e-c8a6-42112a0d4a1e",
        "colab": {
          "base_uri": "https://localhost:8080/",
          "height": 153
        }
      },
      "source": [
        "s = y_train.sum(axis=0)\n",
        "print(s)"
      ],
      "execution_count": 10,
      "outputs": [
        {
          "output_type": "stream",
          "text": [
            "emotion_0    3995\n",
            "emotion_1     436\n",
            "emotion_2    4097\n",
            "emotion_3    7215\n",
            "emotion_4    4830\n",
            "emotion_5    3171\n",
            "emotion_6    4965\n",
            "dtype: int64\n"
          ],
          "name": "stdout"
        }
      ]
    },
    {
      "cell_type": "code",
      "metadata": {
        "id": "bKLex4R0x5oT",
        "colab_type": "code",
        "outputId": "48dc53b2-2f4b-49b4-b7e2-b25735535bf4",
        "colab": {
          "base_uri": "https://localhost:8080/",
          "height": 34
        }
      },
      "source": [
        "y_train.shape"
      ],
      "execution_count": 11,
      "outputs": [
        {
          "output_type": "execute_result",
          "data": {
            "text/plain": [
              "(28709, 7)"
            ]
          },
          "metadata": {
            "tags": []
          },
          "execution_count": 11
        }
      ]
    },
    {
      "cell_type": "code",
      "metadata": {
        "id": "Vhnry32Yyayo",
        "colab_type": "code",
        "outputId": "343da33f-5cec-4b0c-f0f2-ce6f1c2425bd",
        "colab": {
          "base_uri": "https://localhost:8080/",
          "height": 34
        }
      },
      "source": [
        "X_train.shape"
      ],
      "execution_count": 12,
      "outputs": [
        {
          "output_type": "execute_result",
          "data": {
            "text/plain": [
              "(28709, 48, 48, 1)"
            ]
          },
          "metadata": {
            "tags": []
          },
          "execution_count": 12
        }
      ]
    },
    {
      "cell_type": "markdown",
      "metadata": {
        "id": "ow972dYFR6fr",
        "colab_type": "text"
      },
      "source": [
        "# **Shallow CNN**"
      ]
    },
    {
      "cell_type": "code",
      "metadata": {
        "id": "Xl8QJ9I7y9Cx",
        "colab_type": "code",
        "colab": {
          "base_uri": "https://localhost:8080/",
          "height": 105
        },
        "outputId": "ec84ed25-60a3-4897-c85d-de61acea7a89"
      },
      "source": [
        "from tensorflow.keras.layers import Conv2D,BatchNormalization,MaxPooling2D,Dense,Dropout,SpatialDropout2D,Flatten\n",
        "model = tf.keras.models.Sequential()\n",
        "model.add(Conv2D(16, kernel_size=3, activation='relu', padding=\"same\", input_shape=(48,48,1)))\n",
        "model.add(Conv2D(16, (3, 3), activation='relu', padding='same'))\n",
        "model.add(BatchNormalization())\n",
        "model.add(MaxPooling2D(pool_size=(2, 2)))\n",
        "\n",
        "model.add(SpatialDropout2D(0.5))\n",
        "\n",
        "\n",
        "model.add(Conv2D(64, (3, 3),activation='relu',padding='same'))\n",
        "model.add(Conv2D(64, (3, 3),activation='relu',padding='same'))\n",
        "model.add(BatchNormalization())\n",
        "model.add(MaxPooling2D(pool_size=(2, 2)))\n",
        "\n",
        "model.add(SpatialDropout2D(0.5))\n",
        "model.add(Flatten())\n",
        "\n",
        "model.add(Dense(128,activation = 'relu'))\n",
        "\n",
        "\n",
        "model.add(Dense(7,activation = 'softmax'))"
      ],
      "execution_count": 13,
      "outputs": [
        {
          "output_type": "stream",
          "text": [
            "WARNING: Logging before flag parsing goes to stderr.\n",
            "W0727 14:26:55.297372 140687065642880 deprecation.py:506] From /usr/local/lib/python3.6/dist-packages/tensorflow/python/ops/init_ops.py:1251: calling VarianceScaling.__init__ (from tensorflow.python.ops.init_ops) with dtype is deprecated and will be removed in a future version.\n",
            "Instructions for updating:\n",
            "Call initializer instance with the dtype argument instead of passing it to the constructor\n"
          ],
          "name": "stderr"
        }
      ]
    },
    {
      "cell_type": "code",
      "metadata": {
        "id": "E_9j-6cj0GRF",
        "colab_type": "code",
        "outputId": "409e281b-f436-47c9-d6ef-ebb0a37aa63f",
        "colab": {
          "base_uri": "https://localhost:8080/",
          "height": 595
        }
      },
      "source": [
        "model.summary()"
      ],
      "execution_count": 14,
      "outputs": [
        {
          "output_type": "stream",
          "text": [
            "Model: \"sequential\"\n",
            "_________________________________________________________________\n",
            "Layer (type)                 Output Shape              Param #   \n",
            "=================================================================\n",
            "conv2d (Conv2D)              (None, 48, 48, 16)        160       \n",
            "_________________________________________________________________\n",
            "conv2d_1 (Conv2D)            (None, 48, 48, 16)        2320      \n",
            "_________________________________________________________________\n",
            "batch_normalization (BatchNo (None, 48, 48, 16)        64        \n",
            "_________________________________________________________________\n",
            "max_pooling2d (MaxPooling2D) (None, 24, 24, 16)        0         \n",
            "_________________________________________________________________\n",
            "spatial_dropout2d (SpatialDr (None, 24, 24, 16)        0         \n",
            "_________________________________________________________________\n",
            "conv2d_2 (Conv2D)            (None, 24, 24, 64)        9280      \n",
            "_________________________________________________________________\n",
            "conv2d_3 (Conv2D)            (None, 24, 24, 64)        36928     \n",
            "_________________________________________________________________\n",
            "batch_normalization_1 (Batch (None, 24, 24, 64)        256       \n",
            "_________________________________________________________________\n",
            "max_pooling2d_1 (MaxPooling2 (None, 12, 12, 64)        0         \n",
            "_________________________________________________________________\n",
            "spatial_dropout2d_1 (Spatial (None, 12, 12, 64)        0         \n",
            "_________________________________________________________________\n",
            "flatten (Flatten)            (None, 9216)              0         \n",
            "_________________________________________________________________\n",
            "dense (Dense)                (None, 128)               1179776   \n",
            "_________________________________________________________________\n",
            "dense_1 (Dense)              (None, 7)                 903       \n",
            "=================================================================\n",
            "Total params: 1,229,687\n",
            "Trainable params: 1,229,527\n",
            "Non-trainable params: 160\n",
            "_________________________________________________________________\n"
          ],
          "name": "stdout"
        }
      ]
    },
    {
      "cell_type": "code",
      "metadata": {
        "id": "MYe785YSST0y",
        "colab_type": "code",
        "colab": {}
      },
      "source": [
        "model.compile(loss='categorical_crossentropy', optimizer=tf.keras.optimizers.Adam(),metrics=['accuracy'])\n"
      ],
      "execution_count": 0,
      "outputs": []
    },
    {
      "cell_type": "code",
      "metadata": {
        "id": "kgtw2ECY2b4Y",
        "colab_type": "code",
        "outputId": "251fe3ac-3b62-4772-cbf4-0809d4ddae3d",
        "colab": {
          "base_uri": "https://localhost:8080/",
          "height": 901
        }
      },
      "source": [
        "model.fit(X_train,y_train,epochs=25,batch_size=128,validation_split=0.1,shuffle=True)"
      ],
      "execution_count": 16,
      "outputs": [
        {
          "output_type": "stream",
          "text": [
            "Train on 25838 samples, validate on 2871 samples\n",
            "Epoch 1/25\n",
            "25838/25838 [==============================] - 9s 335us/sample - loss: 1.9054 - acc: 0.2711 - val_loss: 3.1533 - val_acc: 0.1721\n",
            "Epoch 2/25\n",
            "25838/25838 [==============================] - 5s 179us/sample - loss: 1.6504 - acc: 0.3400 - val_loss: 2.7297 - val_acc: 0.2473\n",
            "Epoch 3/25\n",
            "25838/25838 [==============================] - 5s 175us/sample - loss: 1.5723 - acc: 0.3851 - val_loss: 1.5184 - val_acc: 0.4040\n",
            "Epoch 4/25\n",
            "25838/25838 [==============================] - 5s 178us/sample - loss: 1.5216 - acc: 0.4064 - val_loss: 1.4632 - val_acc: 0.4197\n",
            "Epoch 5/25\n",
            "25838/25838 [==============================] - 5s 179us/sample - loss: 1.4766 - acc: 0.4207 - val_loss: 1.3985 - val_acc: 0.4483\n",
            "Epoch 6/25\n",
            "25838/25838 [==============================] - 5s 178us/sample - loss: 1.4391 - acc: 0.4399 - val_loss: 1.3533 - val_acc: 0.4768\n",
            "Epoch 7/25\n",
            "25838/25838 [==============================] - 5s 178us/sample - loss: 1.3972 - acc: 0.4632 - val_loss: 1.3734 - val_acc: 0.4730\n",
            "Epoch 8/25\n",
            "25838/25838 [==============================] - 5s 179us/sample - loss: 1.3579 - acc: 0.4816 - val_loss: 1.3053 - val_acc: 0.4995\n",
            "Epoch 9/25\n",
            "25838/25838 [==============================] - 5s 180us/sample - loss: 1.3199 - acc: 0.5000 - val_loss: 1.2669 - val_acc: 0.5266\n",
            "Epoch 10/25\n",
            "25838/25838 [==============================] - 5s 180us/sample - loss: 1.2940 - acc: 0.5131 - val_loss: 1.2555 - val_acc: 0.5280\n",
            "Epoch 11/25\n",
            "25838/25838 [==============================] - 5s 180us/sample - loss: 1.2634 - acc: 0.5247 - val_loss: 1.2218 - val_acc: 0.5347\n",
            "Epoch 12/25\n",
            "25838/25838 [==============================] - 5s 182us/sample - loss: 1.2366 - acc: 0.5331 - val_loss: 1.2266 - val_acc: 0.5308\n",
            "Epoch 13/25\n",
            "25838/25838 [==============================] - 5s 181us/sample - loss: 1.2014 - acc: 0.5473 - val_loss: 1.2250 - val_acc: 0.5392\n",
            "Epoch 14/25\n",
            "25838/25838 [==============================] - 5s 181us/sample - loss: 1.1753 - acc: 0.5626 - val_loss: 1.2298 - val_acc: 0.5329\n",
            "Epoch 15/25\n",
            "25838/25838 [==============================] - 5s 183us/sample - loss: 1.1436 - acc: 0.5730 - val_loss: 1.2168 - val_acc: 0.5420\n",
            "Epoch 16/25\n",
            "25838/25838 [==============================] - 5s 186us/sample - loss: 1.1060 - acc: 0.5863 - val_loss: 1.2200 - val_acc: 0.5298\n",
            "Epoch 17/25\n",
            "25838/25838 [==============================] - 5s 183us/sample - loss: 1.0740 - acc: 0.6026 - val_loss: 1.2041 - val_acc: 0.5486\n",
            "Epoch 18/25\n",
            "25838/25838 [==============================] - 5s 188us/sample - loss: 1.0419 - acc: 0.6134 - val_loss: 1.2283 - val_acc: 0.5531\n",
            "Epoch 19/25\n",
            "25838/25838 [==============================] - 5s 184us/sample - loss: 1.0061 - acc: 0.6293 - val_loss: 1.2144 - val_acc: 0.5510\n",
            "Epoch 20/25\n",
            "25838/25838 [==============================] - 5s 186us/sample - loss: 0.9620 - acc: 0.6467 - val_loss: 1.2368 - val_acc: 0.5462\n",
            "Epoch 21/25\n",
            "25838/25838 [==============================] - 5s 183us/sample - loss: 0.9288 - acc: 0.6536 - val_loss: 1.2377 - val_acc: 0.5374\n",
            "Epoch 22/25\n",
            "25838/25838 [==============================] - 5s 183us/sample - loss: 0.8903 - acc: 0.6725 - val_loss: 1.2448 - val_acc: 0.5486\n",
            "Epoch 23/25\n",
            "25838/25838 [==============================] - 5s 182us/sample - loss: 0.8611 - acc: 0.6844 - val_loss: 1.2565 - val_acc: 0.5503\n",
            "Epoch 24/25\n",
            "25838/25838 [==============================] - 5s 182us/sample - loss: 0.8205 - acc: 0.7018 - val_loss: 1.2571 - val_acc: 0.5427\n",
            "Epoch 25/25\n",
            "25838/25838 [==============================] - 5s 183us/sample - loss: 0.7821 - acc: 0.7145 - val_loss: 1.2723 - val_acc: 0.5496\n"
          ],
          "name": "stdout"
        },
        {
          "output_type": "execute_result",
          "data": {
            "text/plain": [
              "<tensorflow.python.keras.callbacks.History at 0x7ff3e6555ac8>"
            ]
          },
          "metadata": {
            "tags": []
          },
          "execution_count": 16
        }
      ]
    },
    {
      "cell_type": "code",
      "metadata": {
        "id": "fbqassvPSgc7",
        "colab_type": "code",
        "colab": {}
      },
      "source": [
        "y_pred = model.predict(X_test)\n",
        "y_predicted = y_pred.argmax(axis=1)\n",
        "y_test = np.array(y_test).argmax(axis=1)"
      ],
      "execution_count": 0,
      "outputs": []
    },
    {
      "cell_type": "code",
      "metadata": {
        "id": "Lta-WixjGSww",
        "colab_type": "code",
        "outputId": "1dc67db9-0d49-4fb4-dfff-6b88612ac8eb",
        "colab": {
          "base_uri": "https://localhost:8080/",
          "height": 337
        }
      },
      "source": [
        "img=2223\n",
        "plt.imshow(X_test[img].reshape(48,48))\n",
        "print(\"Probabilities are:- \",y_pred[img])\n",
        "print(\"Predicted Emotion:- \"+emotion[y_predicted[img]])\n",
        "print(\"Original Emotion:- \"+emotion[y_test[img]])\n"
      ],
      "execution_count": 73,
      "outputs": [
        {
          "output_type": "stream",
          "text": [
            "Probabilities are:-  [4.4505429e-02 1.3267386e-05 3.1077214e-02 3.3932258e-03 1.8590720e-01\n",
            " 1.0040798e-03 7.3409951e-01]\n",
            "Predicted Emotion:- Neutral\n",
            "Original Emotion:- Neutral\n"
          ],
          "name": "stdout"
        },
        {
          "output_type": "display_data",
          "data": {
            "image/png": "[encoded data removed]",
            "text/plain": [
              "<Figure size 432x288 with 1 Axes>"
            ]
          },
          "metadata": {
            "tags": []
          }
        }
      ]
    },
    {
      "cell_type": "code",
      "metadata": {
        "id": "KXcotHSHrWMQ",
        "colab_type": "code",
        "outputId": "1e4b9b40-bee3-41ba-bf57-3ae545a90478",
        "colab": {
          "base_uri": "https://localhost:8080/",
          "height": 332
        }
      },
      "source": [
        "plt.matshow(confusion_matrix(y_test,y_predicted))\n",
        "plt.title('Confusion matrix of the classifier')\n",
        "plt.colorbar()\n",
        "plt.show()\n",
        "print(\"accuracy= \"+str(accuracy_score(y_test,y_predicted)))\n",
        "print(\"Recall= \"+str(recall_score(y_test,y_predicted,average='macro')))\n",
        "print(\"F1 Score= \"+str(f1_score(y_test,y_predicted,average='macro')))\n",
        "print(\"Precision= \"+str(precision_score(y_test,y_predicted,average='macro')))"
      ],
      "execution_count": 28,
      "outputs": [
        {
          "output_type": "display_data",
          "data": {
            "image/png": "[encoded data removed]",
            "text/plain": [
              "<Figure size 288x288 with 2 Axes>"
            ]
          },
          "metadata": {
            "tags": []
          }
        },
        {
          "output_type": "stream",
          "text": [
            "accuracy= 0.5567010309278351\n",
            "Recall= 0.5138325592843008\n",
            "F1 Score= 0.5270223949155642\n",
            "Precision= 0.5731446547666288\n"
          ],
          "name": "stdout"
        }
      ]
    },
    {
      "cell_type": "code",
      "metadata": {
        "id": "qrpg6PMVVmFb",
        "colab_type": "code",
        "colab": {}
      },
      "source": [
        "shallow_weights = model.save_weights(\"shallow weights\")"
      ],
      "execution_count": 0,
      "outputs": []
    },
    {
      "cell_type": "markdown",
      "metadata": {
        "id": "uSnYYH6pVZp3",
        "colab_type": "text"
      },
      "source": [
        "# **Deep CNN** "
      ]
    },
    {
      "cell_type": "code",
      "metadata": {
        "id": "HQroUq_JVY4R",
        "colab_type": "code",
        "outputId": "a08af501-581c-4c51-f16b-c876ad6e95bc",
        "colab": {
          "base_uri": "https://localhost:8080/",
          "height": 1000
        }
      },
      "source": [
        "from tensorflow.keras.regularizers import l1\n",
        "model = tf.keras.models.Sequential()\n",
        "model.add(Conv2D(64, kernel_size=3, activation='relu', padding=\"same\", input_shape=(48,48,1),kernel_regularizer=l1(1e-6)))\n",
        "model.add(BatchNormalization())\n",
        "model.add(Dropout(0.2))\n",
        "model.add(MaxPooling2D(pool_size=(2, 2)))\n",
        "\n",
        "model.add(Conv2D(128, (5, 5), activation='relu', padding='same',kernel_regularizer=l1(1e-6)))\n",
        "model.add(BatchNormalization())\n",
        "model.add(Dropout(0.4))\n",
        "model.add(MaxPooling2D(pool_size=(2, 2)))\n",
        "\n",
        "model.add(Conv2D(512, (3, 3), activation='relu', padding='same',kernel_regularizer=l1(1e-6)))\n",
        "model.add(BatchNormalization())\n",
        "model.add(Dropout(0.4))\n",
        "model.add(MaxPooling2D(pool_size=(2, 2)))\n",
        "\n",
        "model.add(Conv2D(512, (3, 3), activation='relu', padding='same',kernel_regularizer=l1(1e-6)))\n",
        "model.add(BatchNormalization())\n",
        "model.add(Dropout(0.4))\n",
        "model.add(MaxPooling2D(pool_size=(2, 2)))\n",
        "\n",
        "model.add(SpatialDropout2D(0.5))\n",
        "model.add(Flatten())\n",
        "\n",
        "model.add(Dense(256,activation = 'relu',kernel_regularizer=l1(1e-6)))\n",
        "model.add(BatchNormalization())\n",
        "model.add(Dropout(0.4))\n",
        "model.add(Dense(512,activation = 'relu',kernel_regularizer=l1(1e-6)))\n",
        "model.add(BatchNormalization())\n",
        "model.add(Dropout(0.4))\n",
        "\n",
        "model.add(Dense(7,activation = 'softmax'))\n",
        "model.summary()"
      ],
      "execution_count": 74,
      "outputs": [
        {
          "output_type": "stream",
          "text": [
            "Model: \"sequential_1\"\n",
            "_________________________________________________________________\n",
            "Layer (type)                 Output Shape              Param #   \n",
            "=================================================================\n",
            "conv2d_4 (Conv2D)            (None, 48, 48, 64)        640       \n",
            "_________________________________________________________________\n",
            "batch_normalization_2 (Batch (None, 48, 48, 64)        256       \n",
            "_________________________________________________________________\n",
            "dropout (Dropout)            (None, 48, 48, 64)        0         \n",
            "_________________________________________________________________\n",
            "max_pooling2d_2 (MaxPooling2 (None, 24, 24, 64)        0         \n",
            "_________________________________________________________________\n",
            "conv2d_5 (Conv2D)            (None, 24, 24, 128)       204928    \n",
            "_________________________________________________________________\n",
            "batch_normalization_3 (Batch (None, 24, 24, 128)       512       \n",
            "_________________________________________________________________\n",
            "dropout_1 (Dropout)          (None, 24, 24, 128)       0         \n",
            "_________________________________________________________________\n",
            "max_pooling2d_3 (MaxPooling2 (None, 12, 12, 128)       0         \n",
            "_________________________________________________________________\n",
            "conv2d_6 (Conv2D)            (None, 12, 12, 512)       590336    \n",
            "_________________________________________________________________\n",
            "batch_normalization_4 (Batch (None, 12, 12, 512)       2048      \n",
            "_________________________________________________________________\n",
            "dropout_2 (Dropout)          (None, 12, 12, 512)       0         \n",
            "_________________________________________________________________\n",
            "max_pooling2d_4 (MaxPooling2 (None, 6, 6, 512)         0         \n",
            "_________________________________________________________________\n",
            "conv2d_7 (Conv2D)            (None, 6, 6, 512)         2359808   \n",
            "_________________________________________________________________\n",
            "batch_normalization_5 (Batch (None, 6, 6, 512)         2048      \n",
            "_________________________________________________________________\n",
            "dropout_3 (Dropout)          (None, 6, 6, 512)         0         \n",
            "_________________________________________________________________\n",
            "max_pooling2d_5 (MaxPooling2 (None, 3, 3, 512)         0         \n",
            "_________________________________________________________________\n",
            "spatial_dropout2d_2 (Spatial (None, 3, 3, 512)         0         \n",
            "_________________________________________________________________\n",
            "flatten_1 (Flatten)          (None, 4608)              0         \n",
            "_________________________________________________________________\n",
            "dense_2 (Dense)              (None, 256)               1179904   \n",
            "_________________________________________________________________\n",
            "batch_normalization_6 (Batch (None, 256)               1024      \n",
            "_________________________________________________________________\n",
            "dropout_4 (Dropout)          (None, 256)               0         \n",
            "_________________________________________________________________\n",
            "dense_3 (Dense)              (None, 512)               131584    \n",
            "_________________________________________________________________\n",
            "batch_normalization_7 (Batch (None, 512)               2048      \n",
            "_________________________________________________________________\n",
            "dropout_5 (Dropout)          (None, 512)               0         \n",
            "_________________________________________________________________\n",
            "dense_4 (Dense)              (None, 7)                 3591      \n",
            "=================================================================\n",
            "Total params: 4,478,727\n",
            "Trainable params: 4,474,759\n",
            "Non-trainable params: 3,968\n",
            "_________________________________________________________________\n"
          ],
          "name": "stdout"
        }
      ]
    },
    {
      "cell_type": "code",
      "metadata": {
        "id": "pFA7nao_HVEX",
        "colab_type": "code",
        "colab": {}
      },
      "source": [
        "model.compile(loss='categorical_crossentropy', optimizer=tf.keras.optimizers.Adam(),metrics=['accuracy'])\n"
      ],
      "execution_count": 0,
      "outputs": []
    },
    {
      "cell_type": "code",
      "metadata": {
        "id": "ODknPIwoY-o5",
        "colab_type": "code",
        "outputId": "14955a62-58b0-4bb7-d93b-6022f2759e89",
        "colab": {
          "base_uri": "https://localhost:8080/",
          "height": 1000
        }
      },
      "source": [
        "model.fit(X_train,y_train,epochs=40,batch_size=128,validation_split=0.1,shuffle=True)"
      ],
      "execution_count": 76,
      "outputs": [
        {
          "output_type": "stream",
          "text": [
            "Train on 25838 samples, validate on 2871 samples\n",
            "Epoch 1/40\n",
            "25838/25838 [==============================] - 19s 723us/sample - loss: 2.3306 - acc: 0.2107 - val_loss: 2.6531 - val_acc: 0.2421\n",
            "Epoch 2/40\n",
            "25838/25838 [==============================] - 15s 592us/sample - loss: 1.9707 - acc: 0.2676 - val_loss: 2.4762 - val_acc: 0.1641\n",
            "Epoch 3/40\n",
            "25838/25838 [==============================] - 15s 587us/sample - loss: 1.7043 - acc: 0.3766 - val_loss: 1.9954 - val_acc: 0.2748\n",
            "Epoch 4/40\n",
            "25838/25838 [==============================] - 15s 585us/sample - loss: 1.5433 - acc: 0.4438 - val_loss: 1.6389 - val_acc: 0.4100\n",
            "Epoch 5/40\n",
            "25838/25838 [==============================] - 15s 587us/sample - loss: 1.4299 - acc: 0.4856 - val_loss: 1.4084 - val_acc: 0.4883\n",
            "Epoch 6/40\n",
            "25838/25838 [==============================] - 15s 588us/sample - loss: 1.3520 - acc: 0.5116 - val_loss: 1.3578 - val_acc: 0.5155\n",
            "Epoch 7/40\n",
            "25838/25838 [==============================] - 15s 587us/sample - loss: 1.3073 - acc: 0.5330 - val_loss: 1.4213 - val_acc: 0.4897\n",
            "Epoch 8/40\n",
            "25838/25838 [==============================] - 15s 587us/sample - loss: 1.2585 - acc: 0.5546 - val_loss: 1.3514 - val_acc: 0.5218\n",
            "Epoch 9/40\n",
            "25838/25838 [==============================] - 15s 589us/sample - loss: 1.2310 - acc: 0.5654 - val_loss: 1.5415 - val_acc: 0.4403\n",
            "Epoch 10/40\n",
            "25838/25838 [==============================] - 15s 587us/sample - loss: 1.2000 - acc: 0.5822 - val_loss: 1.2500 - val_acc: 0.5653\n",
            "Epoch 11/40\n",
            "25838/25838 [==============================] - 15s 588us/sample - loss: 1.1751 - acc: 0.5915 - val_loss: 1.1820 - val_acc: 0.5827\n",
            "Epoch 12/40\n",
            "25838/25838 [==============================] - 15s 588us/sample - loss: 1.1505 - acc: 0.6030 - val_loss: 1.2505 - val_acc: 0.5698\n",
            "Epoch 13/40\n",
            "25838/25838 [==============================] - 15s 584us/sample - loss: 1.1243 - acc: 0.6183 - val_loss: 1.2165 - val_acc: 0.5778\n",
            "Epoch 14/40\n",
            "25838/25838 [==============================] - 15s 590us/sample - loss: 1.1060 - acc: 0.6276 - val_loss: 1.2395 - val_acc: 0.5737\n",
            "Epoch 15/40\n",
            "25838/25838 [==============================] - 15s 590us/sample - loss: 1.0823 - acc: 0.6378 - val_loss: 1.2196 - val_acc: 0.5834\n",
            "Epoch 16/40\n",
            "25838/25838 [==============================] - 15s 587us/sample - loss: 1.0662 - acc: 0.6501 - val_loss: 1.3602 - val_acc: 0.5556\n",
            "Epoch 17/40\n",
            "25838/25838 [==============================] - 15s 585us/sample - loss: 1.0382 - acc: 0.6593 - val_loss: 1.3124 - val_acc: 0.5709\n",
            "Epoch 18/40\n",
            "25838/25838 [==============================] - 15s 586us/sample - loss: 1.0225 - acc: 0.6702 - val_loss: 1.2038 - val_acc: 0.5897\n",
            "Epoch 19/40\n",
            "25838/25838 [==============================] - 15s 584us/sample - loss: 1.0058 - acc: 0.6809 - val_loss: 1.7728 - val_acc: 0.4713\n",
            "Epoch 20/40\n",
            "25838/25838 [==============================] - 15s 587us/sample - loss: 0.9909 - acc: 0.6883 - val_loss: 1.3862 - val_acc: 0.5402\n",
            "Epoch 21/40\n",
            "25838/25838 [==============================] - 15s 583us/sample - loss: 0.9710 - acc: 0.6986 - val_loss: 1.2599 - val_acc: 0.5841\n",
            "Epoch 22/40\n",
            "25838/25838 [==============================] - 15s 584us/sample - loss: 0.9509 - acc: 0.7052 - val_loss: 1.2667 - val_acc: 0.5967\n",
            "Epoch 23/40\n",
            "25838/25838 [==============================] - 15s 584us/sample - loss: 0.9340 - acc: 0.7154 - val_loss: 1.2647 - val_acc: 0.6050\n",
            "Epoch 24/40\n",
            "25838/25838 [==============================] - 15s 583us/sample - loss: 0.9240 - acc: 0.7225 - val_loss: 1.2529 - val_acc: 0.6085\n",
            "Epoch 25/40\n",
            "25838/25838 [==============================] - 15s 584us/sample - loss: 0.9054 - acc: 0.7319 - val_loss: 1.3760 - val_acc: 0.5845\n",
            "Epoch 26/40\n",
            "25838/25838 [==============================] - 15s 584us/sample - loss: 0.8877 - acc: 0.7382 - val_loss: 1.4348 - val_acc: 0.5646\n",
            "Epoch 27/40\n",
            "25838/25838 [==============================] - 15s 585us/sample - loss: 0.8745 - acc: 0.7463 - val_loss: 1.2605 - val_acc: 0.6169\n",
            "Epoch 28/40\n",
            "25838/25838 [==============================] - 15s 587us/sample - loss: 0.8689 - acc: 0.7479 - val_loss: 1.2687 - val_acc: 0.6148\n",
            "Epoch 29/40\n",
            "25838/25838 [==============================] - 15s 583us/sample - loss: 0.8480 - acc: 0.7607 - val_loss: 1.2829 - val_acc: 0.6054\n",
            "Epoch 30/40\n",
            "25838/25838 [==============================] - 15s 586us/sample - loss: 0.8397 - acc: 0.7691 - val_loss: 1.3344 - val_acc: 0.6061\n",
            "Epoch 31/40\n",
            "25838/25838 [==============================] - 15s 585us/sample - loss: 0.8159 - acc: 0.7757 - val_loss: 1.9879 - val_acc: 0.4256\n",
            "Epoch 32/40\n",
            "25838/25838 [==============================] - 15s 587us/sample - loss: 0.8190 - acc: 0.7752 - val_loss: 1.3906 - val_acc: 0.5963\n",
            "Epoch 33/40\n",
            "25838/25838 [==============================] - 15s 588us/sample - loss: 0.7974 - acc: 0.7880 - val_loss: 1.3700 - val_acc: 0.6196\n",
            "Epoch 34/40\n",
            "25838/25838 [==============================] - 15s 585us/sample - loss: 0.7833 - acc: 0.7949 - val_loss: 1.5369 - val_acc: 0.5684\n",
            "Epoch 35/40\n",
            "25838/25838 [==============================] - 15s 586us/sample - loss: 0.7824 - acc: 0.7959 - val_loss: 1.4239 - val_acc: 0.6172\n",
            "Epoch 36/40\n",
            "25838/25838 [==============================] - 15s 587us/sample - loss: 0.7651 - acc: 0.8047 - val_loss: 1.6112 - val_acc: 0.5667\n",
            "Epoch 37/40\n",
            "25838/25838 [==============================] - 15s 589us/sample - loss: 0.7545 - acc: 0.8082 - val_loss: 1.5418 - val_acc: 0.5862\n",
            "Epoch 38/40\n",
            "25838/25838 [==============================] - 15s 586us/sample - loss: 0.7469 - acc: 0.8137 - val_loss: 1.5030 - val_acc: 0.5907\n",
            "Epoch 39/40\n",
            "25838/25838 [==============================] - 15s 587us/sample - loss: 0.7490 - acc: 0.8156 - val_loss: 1.4973 - val_acc: 0.6169\n",
            "Epoch 40/40\n",
            "25838/25838 [==============================] - 15s 587us/sample - loss: 0.7281 - acc: 0.8250 - val_loss: 1.5155 - val_acc: 0.6008\n"
          ],
          "name": "stdout"
        },
        {
          "output_type": "execute_result",
          "data": {
            "text/plain": [
              "<tensorflow.python.keras.callbacks.History at 0x7ff34fa2a400>"
            ]
          },
          "metadata": {
            "tags": []
          },
          "execution_count": 76
        }
      ]
    },
    {
      "cell_type": "code",
      "metadata": {
        "id": "l_5TC0rRZFV-",
        "colab_type": "code",
        "colab": {}
      },
      "source": [
        "y_pred = model.predict(X_test)\n",
        "y_predicted = y_pred.argmax(axis=1)"
      ],
      "execution_count": 0,
      "outputs": []
    },
    {
      "cell_type": "code",
      "metadata": {
        "id": "-IZGi3tVZI-M",
        "colab_type": "code",
        "outputId": "390b8e31-3dea-492b-8b01-85a41da8a1dc",
        "colab": {
          "base_uri": "https://localhost:8080/",
          "height": 337
        }
      },
      "source": [
        "img=1112\n",
        "\n",
        "plt.imshow(X_test[img].reshape(48,48))\n",
        "print(\"Probabilities are:- \",y_pred[img])\n",
        "print(\"Predicted Emotion:- \"+emotion[y_predicted[img]])\n",
        "print(\"Original Emotion:- \"+emotion[y_test[img]])\n"
      ],
      "execution_count": 83,
      "outputs": [
        {
          "output_type": "stream",
          "text": [
            "Probabilities are:-  [0.0547498  0.0011597  0.2676292  0.63115424 0.00178509 0.04165595\n",
            " 0.001866  ]\n",
            "Predicted Emotion:- Happy\n",
            "Original Emotion:- Happy\n"
          ],
          "name": "stdout"
        },
        {
          "output_type": "display_data",
          "data": {
            "image/png": "[encoded data removed]",
            "text/plain": [
              "<Figure size 432x288 with 1 Axes>"
            ]
          },
          "metadata": {
            "tags": []
          }
        }
      ]
    },
    {
      "cell_type": "code",
      "metadata": {
        "id": "Wo1Y8FudZLwA",
        "colab_type": "code",
        "outputId": "622b37a6-36e0-4540-e19a-3135f5263279",
        "colab": {
          "base_uri": "https://localhost:8080/",
          "height": 332
        }
      },
      "source": [
        "plt.matshow(confusion_matrix(y_test,y_predicted))\n",
        "plt.title('Confusion matrix of the classifier')\n",
        "plt.colorbar()\n",
        "plt.show()\n",
        "print(\"accuracy= \"+str(accuracy_score(y_test,y_predicted)))\n",
        "print(\"Recall= \"+str(recall_score(y_test,y_predicted,average='macro')))\n",
        "print(\"F1 Score= \"+str(f1_score(y_test,y_predicted,average='macro')))\n",
        "print(\"Precision= \"+str(precision_score(y_test,y_predicted,average='macro')))"
      ],
      "execution_count": 85,
      "outputs": [
        {
          "output_type": "display_data",
          "data": {
            "image/png": "[encoded data removed]",
            "text/plain": [
              "<Figure size 288x288 with 2 Axes>"
            ]
          },
          "metadata": {
            "tags": []
          }
        },
        {
          "output_type": "stream",
          "text": [
            "accuracy= 0.6035107272220674\n",
            "Recall= 0.5710863149835881\n",
            "F1 Score= 0.5824013856532421\n",
            "Precision= 0.6291548753230377\n"
          ],
          "name": "stdout"
        }
      ]
    },
    {
      "cell_type": "code",
      "metadata": {
        "id": "xR3JKTFOaJfs",
        "colab_type": "code",
        "colab": {}
      },
      "source": [
        "deep_weights = model.save_weights(\"deep weights\")"
      ],
      "execution_count": 0,
      "outputs": []
    },
    {
      "cell_type": "code",
      "metadata": {
        "id": "itbWpN3M4B2O",
        "colab_type": "code",
        "colab": {}
      },
      "source": [
        ""
      ],
      "execution_count": 0,
      "outputs": []
    }
  ]
}